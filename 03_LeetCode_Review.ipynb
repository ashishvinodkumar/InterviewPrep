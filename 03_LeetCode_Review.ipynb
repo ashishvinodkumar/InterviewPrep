{
 "cells": [
  {
   "cell_type": "markdown",
   "id": "f3b29b43-666f-440c-9595-d81a792f912a",
   "metadata": {},
   "source": [
    "# Leetcode Patterns"
   ]
  },
  {
   "cell_type": "markdown",
   "id": "c3eaa0c1-69fc-47bb-81d8-ee14d8d72fa4",
   "metadata": {},
   "source": [
    "## 1. Pre-fix Sum Pattern"
   ]
  },
  {
   "cell_type": "markdown",
   "id": "2b66171a-0ce0-4fa2-a016-3f274fff6f49",
   "metadata": {},
   "source": [
    "Where:\n",
    "- Query the sum of elements in a subarray. \n",
    "\n",
    "How:\n",
    "- You can do it by computing a separate prefix-sum array."
   ]
  },
  {
   "cell_type": "markdown",
   "id": "ff123aea-7292-4b5a-8374-a404e0ba4af4",
   "metadata": {},
   "source": [
    "Leetcode Problems:\n",
    "- 303. Range Sum Query - Immutable\n",
    "- 525. Continguous Array\n",
    "- 560 - Subarray Sum Equals K"
   ]
  },
  {
   "cell_type": "code",
   "execution_count": 22,
   "id": "2e10d2e5-3034-4175-a73b-9fdc4814e325",
   "metadata": {},
   "outputs": [
    {
     "data": {
      "text/plain": [
       "23"
      ]
     },
     "execution_count": 22,
     "metadata": {},
     "output_type": "execute_result"
    }
   ],
   "source": [
    "# Range Sum. Sum the number of items in a given array range.\n",
    "# Time Complexity: O(N). As you iterate over all items in the list once to create the dict. \n",
    "# Space Complexity: O(N). As you use a python dict of size n, to store all elements in the list.\n",
    "\n",
    "def range_sum(my_list, l, r):\n",
    "    my_dict = {}\n",
    "    tot = 0\n",
    "    for i in range(0, len(my_list)): # O(N)\n",
    "        tot = tot + my_list[i]\n",
    "        my_dict[i] = tot\n",
    "        \n",
    "    res = my_dict[r] - my_dict.get(l-1, 0) # Each my_dict lookup is O(1)\n",
    "    return res\n",
    "\n",
    "range_sum([1, 4, 5, 6, 8], 1, 4)"
   ]
  },
  {
   "cell_type": "markdown",
   "id": "9fa3d65b-4f8b-4254-8007-b4781e87d7f4",
   "metadata": {},
   "source": [
    "## 2. Bit Manipulation"
   ]
  },
  {
   "cell_type": "markdown",
   "id": "ce4aa086-735e-460b-9bff-8e55fec8f2d3",
   "metadata": {},
   "source": [
    "Where:\n",
    "- When you need to convert an integer to binary and/or vice-versa. \n",
    "\n",
    "How:\n",
    "- You divide the integer number repeatedly by 2, to identify the carryover. For each of these repeated divisions, the remainder becomes the bit value."
   ]
  },
  {
   "cell_type": "code",
   "execution_count": 42,
   "id": "54168f27-d507-4ec0-9e17-5e61c7b589f6",
   "metadata": {},
   "outputs": [
    {
     "name": "stdout",
     "output_type": "stream",
     "text": [
      "The bit representation of 8 is: convertToBit(n)='1000'\n"
     ]
    }
   ],
   "source": [
    "# Calculate the number of bits \n",
    "# Time Complexity: O(log(N)). For each integer number 'n', you are dividing by 2, until you get to 0. It is a path compression by half.\n",
    "# Space Complexity: O(1). You are only using a string to store the result. No additional data structure is used.\n",
    "\n",
    "def convertToBit(n):\n",
    "    if n == 0:\n",
    "        return '0'\n",
    "    res = ''\n",
    "    while n != 0: # O(log(N))\n",
    "        remainder = n % 2 # Remainder becomes the bit value.\n",
    "        res = str(remainder) + res\n",
    "        n = n // 2 # Quotient is the carry-over/next-n value.\n",
    "    return res\n",
    "\n",
    "n = 8\n",
    "print(f'The bit representation of {n} is: {convertToBit(n)=}')"
   ]
  },
  {
   "cell_type": "code",
   "execution_count": 52,
   "id": "d226ab70-b28e-41c9-aa6c-88c353394a33",
   "metadata": {},
   "outputs": [
    {
     "name": "stdout",
     "output_type": "stream",
     "text": [
      "i=0 convertToBit(i)='0'\n",
      "i=1 convertToBit(i)='1'\n",
      "i=2 convertToBit(i)='10'\n",
      "i=3 convertToBit(i)='11'\n",
      "i=4 convertToBit(i)='100'\n",
      "i=5 convertToBit(i)='101'\n",
      "i=6 convertToBit(i)='110'\n",
      "i=7 convertToBit(i)='111'\n",
      "i=8 convertToBit(i)='1000'\n"
     ]
    }
   ],
   "source": [
    "for i in range(0, 9):\n",
    "    print(f'{i=} {convertToBit(i)=}')"
   ]
  },
  {
   "cell_type": "code",
   "execution_count": 54,
   "id": "9acfb64e-13fd-4314-8d14-9d109ec820a5",
   "metadata": {},
   "outputs": [
    {
     "data": {
      "text/plain": [
       "[0, 1, 1, 2, 1, 2]"
      ]
     },
     "execution_count": 54,
     "metadata": {},
     "output_type": "execute_result"
    }
   ],
   "source": [
    "# Given an integer n, count the number of ones in each integer's binary representation between [0,n].\n",
    "# Time Complexity: O(N): We are only iterating through each integer betwene [0,n] inclusive, once.\n",
    "# Space Complexity: O(N): We are using a dynamic programming dp array, to store the result for each integer.\n",
    "\n",
    "def countBits(n: int):\n",
    "    dp = [0] * (n+1) # O(N) space\n",
    "    offset = 1 # Offset is initialized to 1. Offset is used to identify powers of 2. As with each power of 2, we use a new bit.\n",
    "\n",
    "    for i in range(1, n+1): # Looping over every integer between [0,n] inclusive\n",
    "        if offset * 2 == i: # If i is a power of 2, then we move the offset accordingly to i.\n",
    "            offset = i\n",
    "        dp[i] = 1 + dp[i-offset]\n",
    "\n",
    "    return dp\n",
    "\n",
    "countBits(5)"
   ]
  },
  {
   "cell_type": "markdown",
   "id": "cf20fdc7-878a-467e-a52e-52f2ba4b2771",
   "metadata": {},
   "source": [
    "## 3. Two-Pointer Problem"
   ]
  },
  {
   "cell_type": "markdown",
   "id": "5004db0a-e962-41a6-85c9-a24889657ccf",
   "metadata": {},
   "source": [
    "Where:\n",
    "- Check for palindrome. Used to reduce time complexity from O(N^2) to O(N)\n",
    "\n",
    "How:\n",
    "- Initialize 2 variables, and move each pointer away/towards each other based on the problem."
   ]
  },
  {
   "cell_type": "markdown",
   "id": "f13e5e59-fc68-45c4-8df9-f8f60d17d335",
   "metadata": {},
   "source": [
    "Leetcode Problems:\n",
    "- 167. Two Sum || - Input array is sorted.\n",
    "- 15. 3 Sum Problem\n",
    "- 11. Container with Most Water"
   ]
  },
  {
   "cell_type": "markdown",
   "id": "863a3d81-d34c-42e1-af65-e4e238d06c8c",
   "metadata": {},
   "source": [
    "## 4. Sliding Window Pattern"
   ]
  },
  {
   "cell_type": "markdown",
   "id": "8d31ad27-bbd3-4c7c-b8bc-1d9fcd110d8a",
   "metadata": {},
   "source": [
    "Where:\n",
    "- If a problem asks you to look at a subset of elements to satisfy a given condition, then sliding window pattern is most applicable.\n",
    "- Input is usually an array/string/linked-list, where you may be asked to find a specific substring, longest, or shortest substring/value, to satisfy a specific condition. \n",
    "\n",
    "How:\n",
    "- Start by initializing a window of first 'K' elements, and as we iterate through the array, check for the condition."
   ]
  },
  {
   "cell_type": "markdown",
   "id": "bc3564b7-78c7-44fb-8c93-757c7df2012d",
   "metadata": {},
   "source": [
    "Leetcode Problems:\n",
    "- 643. Maximum Average Subarray I \n",
    "- 3. Longest Substring Without Repeating Characters\n",
    "- 76. Maximum Window Substring"
   ]
  },
  {
   "cell_type": "markdown",
   "id": "7089accd-0208-4ba6-b450-c885c428d78e",
   "metadata": {},
   "source": [
    "## 5. Fast and Slow Patterns"
   ]
  },
  {
   "cell_type": "markdown",
   "id": "a1cb3385-0b87-4d9a-bf49-e8654970b68a",
   "metadata": {},
   "source": [
    "Where:\n",
    "- Moving 1 pointer faster than the slow pattern.\n",
    "- Is used to finding a cycle.\n",
    "- You can also find the middle of the linked-list when the fast-pointer reaches the end of the list, and the slow pointer will point to middle.\n",
    "\n",
    "How:\n",
    "- Start by placing both fast and slow pointer at the head of the linked-List.\n",
    "- If there is a cycle, they will meet."
   ]
  },
  {
   "cell_type": "markdown",
   "id": "6d9b0320-bc97-4d73-abff-f5109ece9622",
   "metadata": {},
   "source": [
    "## 6. Reverse a Linked-List in Place"
   ]
  },
  {
   "cell_type": "markdown",
   "id": "61b9d0f2-cfdb-4b35-8011-b7affdca56f8",
   "metadata": {},
   "source": [
    "Where:\n",
    "- Need to reverse the pointers in a linked-list.\n",
    "\n",
    "How:\n",
    "- Use 3 pointers. Previous, Current, and Next.\n",
    "- As you iterate through the linked-list, set the pointers. (next = cur.next, cur.next = prev, prev=cur, cur=next)\n",
    "- Prev pointer will become the new head."
   ]
  },
  {
   "cell_type": "markdown",
   "id": "316ebfa4-f511-43d5-aad0-51bc7e3e316d",
   "metadata": {},
   "source": [
    "Leetcode Problems:\n",
    "- 206. Reverse Linked List\n",
    "- 92. Reverse Linked List II\n",
    "- 24. Swap Nodes in Pairs"
   ]
  },
  {
   "cell_type": "markdown",
   "id": "3e859775-b147-4c2b-85f6-49ac5f4a4c41",
   "metadata": {},
   "source": [
    "## 7. Monotonic Stack"
   ]
  },
  {
   "cell_type": "markdown",
   "id": "0327fe8a-67a6-4804-9746-8d232c9f3144",
   "metadata": {},
   "source": [
    "Where:\n",
    "- Find the next greater element or next smallest element in an array.\n",
    "\n",
    "How:\n",
    "- Use a stack/list, to pop/append an item to list based on greatest/smallest"
   ]
  },
  {
   "cell_type": "markdown",
   "id": "6d60d742-f3eb-4db5-833b-6a93f359f390",
   "metadata": {},
   "source": [
    "Leetcode Problems:\n",
    "- 496. Next Greater Elemetnt I\n",
    "- 739, Daily Temperatures\n",
    "- 84. Largest Rectangle in Histogram"
   ]
  },
  {
   "cell_type": "markdown",
   "id": "b2d57002-70e2-4c5e-b1de-7420c9dd56d2",
   "metadata": {},
   "source": [
    "## 8. Top-K elements"
   ]
  },
  {
   "cell_type": "markdown",
   "id": "49c894f2-ca88-47e9-a70c-36f97e71ba09",
   "metadata": {},
   "source": [
    "Where:\n",
    "- Used to select the top-k largest/smallest/frequent elements based on a given condition.\n",
    "\n",
    "How:\n",
    "- Input is usually an arary/linked-list.\n",
    "- Store in a minheap for k largest.\n",
    "- Store in a maxheap for k smallest."
   ]
  },
  {
   "cell_type": "markdown",
   "id": "d413996c-855c-4093-ae4d-4feceda97e2b",
   "metadata": {},
   "source": [
    "Leetcode Problems:\n",
    "- 216. Kth Largest Element in an Array.\n",
    "- 347. Tok-K Frequent Elements\n",
    "- 373. Find K Pairs with Smallest Sums"
   ]
  },
  {
   "cell_type": "markdown",
   "id": "720db997-f41e-4290-84d6-19e70a460f97",
   "metadata": {},
   "source": [
    "## 9. Overlapping Interval"
   ]
  },
  {
   "cell_type": "markdown",
   "id": "c391f657-f7a3-423d-b72b-fe5877a3f209",
   "metadata": {},
   "source": [
    "Where:\n",
    "- Merging intervals\n",
    "- Intervals or ranges that may overlap\n",
    "- Interval intersection\n",
    "- Add a new interval to a non-overlapping interval\n",
    "\n",
    " How:\n",
    " - Sort intervals.\n",
    " - Create an empty list and iterate over intervals to find overlaps, merge the overlapping intervals and add to empty list."
   ]
  },
  {
   "cell_type": "markdown",
   "id": "a504a6ff-3884-4131-bfb9-97c657e85263",
   "metadata": {},
   "source": [
    "Leetcode Problems:\n",
    "- 56. Merge Intervals\n",
    "- 57. Insert Interval\n",
    "- 435. Non-overlapping Intervals"
   ]
  },
  {
   "cell_type": "markdown",
   "id": "db9cfcc7-06ee-4673-ad03-cc11a46d0dbc",
   "metadata": {},
   "source": [
    "## 10. Modified Binary Search Pattern"
   ]
  },
  {
   "cell_type": "markdown",
   "id": "5db54b1e-2330-45d7-b04a-1bf5928eec7d",
   "metadata": {},
   "source": [
    "Where:\n",
    "- Searching in a nearly sorted array.\n",
    "- Searching in a rotated sorted array.\n",
    "- Searching in a list with unknown length.\n",
    "- Searching in an array with duplicates.\n",
    "- Find the first or last occurrence of an element.\n",
    "- Finding the square root of a number.\n",
    "- Finding the peak element\n",
    "\n",
    "How:\n",
    "1. Implement bisect_left and biscet_right to improve understanding of binary search. "
   ]
  },
  {
   "cell_type": "markdown",
   "id": "40681744-62ea-4f2a-bb58-cef5f9ef171f",
   "metadata": {},
   "source": [
    "Leetcode Problems:\n",
    "- 33. Search in Rotated Sorted Array.\n",
    "- 153. Find Minimum in Rotated Sorted Array.\n",
    "- 240. Search in 2D Matrix II"
   ]
  },
  {
   "cell_type": "markdown",
   "id": "41f1d169-43ab-450e-85db-72a6039b0ed7",
   "metadata": {},
   "source": [
    "## 11. Binary Tree Traversals"
   ]
  },
  {
   "cell_type": "markdown",
   "id": "d6d47b05-02dd-4a17-853c-2ec02be3d940",
   "metadata": {},
   "source": [
    "Where:\n",
    "1. Pre-Order Traversal\n",
    "    - To create a copy of tree (serialization), use preorder traversal.\n",
    "2. In-Order Traversal (DFS)\n",
    "    - To tretrieve the values of binary search tree in sorted order, use DFS.\n",
    "3. Post-Order Traversal\n",
    "    - When you want to process child nodes before the parent, use postorder traversal.\n",
    "4. Level-Order Traversal (BFS)\n",
    "    - When you need to explore all nodes in the current level, before proceeding to next level, then use BFS.\n",
    "    \n",
    "How:\n",
    "- Identify which traversal will yield the most optimal result."
   ]
  },
  {
   "cell_type": "markdown",
   "id": "8a7af116-1dc4-4e1d-8a65-8708855a1984",
   "metadata": {},
   "source": [
    "Leetcode Problems:\n",
    "- 257. Binary Tree Paths (PreOrder)\n",
    "- 230. Kth Smallest Element in a BST. (InOrder)\n",
    "- 124. Binary Tree Maximum Path Sum. (PostOrder)\n",
    "- 107. Binary Tree Level Order Traversal II (LevelOrder)"
   ]
  },
  {
   "cell_type": "markdown",
   "id": "111397c3-3bbf-4bf1-9a58-1f748c7fffa1",
   "metadata": {},
   "source": [
    "## 12. Graph (DFS) and (BFS)"
   ]
  },
  {
   "cell_type": "markdown",
   "id": "bf425a38-039a-4cce-b2fd-c549e2f73a67",
   "metadata": {},
   "source": [
    "Where:\n",
    "\n",
    "\n",
    "How:"
   ]
  },
  {
   "cell_type": "markdown",
   "id": "4016915a-208a-4172-8146-f0979d6ac224",
   "metadata": {},
   "source": [
    "Leetcode Problems (Graph DFS)\n",
    "- 133. Clone Graph\n",
    "- 113. Path Sum II\n",
    "- 210. Course Schedule II\n",
    "\n",
    "Leetcode Problems (Graph BFS)\n",
    "- 102. Binary Tee Level Order Traversal\n",
    "- 994. Rotting Oranges\n",
    "- 127. Word Ladder"
   ]
  },
  {
   "cell_type": "markdown",
   "id": "57ee35cc-a786-4372-a234-d3fa7f13e95c",
   "metadata": {},
   "source": [
    "## 13. Matrix Traversal (Graph Traversal)"
   ]
  },
  {
   "cell_type": "markdown",
   "id": "821ddca9-e6ca-4267-b62c-3863b03859f8",
   "metadata": {},
   "source": [
    "Where:\n",
    "- Finding the shortest path.\n",
    "- "
   ]
  },
  {
   "cell_type": "markdown",
   "id": "7dc37152-9606-407f-9601-8b1e40c75dac",
   "metadata": {},
   "source": [
    "Leetcode Problems\n",
    "- 733. Flood Fill\n",
    "- 200. Number of Island\n",
    "- 130. Surrounded Regions"
   ]
  },
  {
   "cell_type": "markdown",
   "id": "dc9b2465-f45e-4ac5-898e-b5617991abd0",
   "metadata": {},
   "source": [
    "## 14. Backtracking"
   ]
  },
  {
   "cell_type": "markdown",
   "id": "3f840a8a-be5b-452b-8363-025496ae4ef8",
   "metadata": {},
   "source": [
    "Where:\n",
    "- Exploring all potential solution paths and backtracking the paths that do not lead to a valid solution.\\\n",
    "- Generate all possible permutations/combinations of a given set of elements.\n",
    "- Solve puzzles like sudoku or N-Queens Problem\n",
    "- Find all possible paths from start-point to end-point.\n",
    "- Generate all possible sub-strings.\n",
    "\n",
    "How:"
   ]
  },
  {
   "cell_type": "markdown",
   "id": "a981d8b8-d69d-4969-9cd5-15a2abbca970",
   "metadata": {},
   "source": [
    "Leetcode Problems:\n",
    "- 46. Permutations\n",
    "- 78. Subsets.\n",
    "- 51. N-Queens"
   ]
  },
  {
   "cell_type": "markdown",
   "id": "6a1daefb-c8ea-4690-9e69-7214aa279f56",
   "metadata": {},
   "source": [
    "## 15. Dynamic Programming"
   ]
  },
  {
   "cell_type": "markdown",
   "id": "dbb7a960-8e59-4213-8cb1-13a1c8cab880",
   "metadata": {},
   "source": [
    "- Solving optimization problems by breaking them down into smaller sub-problems and storing their solutions to avoid repetitive work.\n",
    "- Particularly usefule in problems that involve\n",
    "   1. Overlapping subproblems.\n",
    "   2. Optimal Substructure\n",
    "   3. Maximize or Minimuze a certain value\n",
    "   4. Count number of values to achieve a certain goal.\n",
    "\n",
    "\n",
    "Common DP Patterns\n",
    "- Fibonacci Numbers\n",
    "- O/1 Knapsack\n",
    "- Longest Common Subsequence (LCS)\n",
    "- Longest Increasing Subsequence (LIS)\n",
    "- Subset Sum\n",
    "- Matrix Chain Multiplication"
   ]
  },
  {
   "cell_type": "markdown",
   "id": "df6695a4-ddec-4380-a000-558021e498c2",
   "metadata": {},
   "source": [
    "Leetcode Problems:\n",
    "- 70. Climbing Stairs.\n",
    "- 322. Coin Change\n",
    "- 1143. Longest Common Subsequence\n",
    "- 300. Longest Increasing Subsequence\n",
    "- 416. Partition Equal Subset Sum\n",
    "- 312. Burst Balloons."
   ]
  },
  {
   "cell_type": "code",
   "execution_count": null,
   "id": "50051ecd-b69e-41ba-9aa9-337a5243b3cb",
   "metadata": {},
   "outputs": [],
   "source": []
  },
  {
   "cell_type": "code",
   "execution_count": null,
   "id": "f45c1081-bc5e-44b4-af36-6b630d70c7d6",
   "metadata": {},
   "outputs": [],
   "source": []
  },
  {
   "cell_type": "code",
   "execution_count": null,
   "id": "e8a78875-deb3-4b94-a8ac-dbb87842f89b",
   "metadata": {},
   "outputs": [],
   "source": []
  },
  {
   "cell_type": "code",
   "execution_count": null,
   "id": "05d29a92-5832-47e2-95db-c92236b1c2ef",
   "metadata": {},
   "outputs": [],
   "source": []
  },
  {
   "cell_type": "code",
   "execution_count": null,
   "id": "33b4b97f-4087-4827-b994-5f2e6f6fe3a2",
   "metadata": {},
   "outputs": [],
   "source": []
  },
  {
   "cell_type": "markdown",
   "id": "0d33e726-866b-4b66-b7cd-09b1d2ead614",
   "metadata": {},
   "source": [
    "# Beyond Patterns\n",
    "\n",
    "### DSA "
   ]
  },
  {
   "cell_type": "markdown",
   "id": "446aed35-878b-408a-a02f-1c3fcefcaeab",
   "metadata": {},
   "source": [
    "We can broadly divide DSA into 3 categories:\n",
    "1. Data Structures\n",
    "2. Algorithms\n",
    "3. Problem Solving Techniques"
   ]
  },
  {
   "cell_type": "markdown",
   "id": "9314aff0-8368-4fc7-be7c-255237ef4bda",
   "metadata": {},
   "source": [
    "### Data Structures are of 2 types:\n",
    "- Linear\n",
    "   1. Array/List\n",
    "   2. Linked-List\n",
    "   3. Stacks/List\n",
    "   4. Queues/List\n",
    "   4. HashTables/Python Dict\n",
    "\n",
    "- Non-Linear\n",
    "   1. Tree\n",
    "   2. Binary Search Tree\n",
    "   3. Heaps\n",
    "   4. Graphs\n",
    "   5. Trie\n",
    "   6. Union-Find"
   ]
  },
  {
   "cell_type": "markdown",
   "id": "2a9e24b6-3a6a-4857-9896-38e368844d9b",
   "metadata": {},
   "source": [
    "### Algorithms are:\n",
    "   1. Sorting\n",
    "   2. Binary Search\n",
    "   3. Bit Manipulation\n",
    "   4. In-Order\n",
    "   5. Pre-Order\n",
    "   6. Post-Order\n",
    "   7. Level-Order\n",
    "   8. DFS/BFS\n",
    "   9. Topological Sort\n",
    "   10. Djikstra\n",
    "   11. Belmon Fort"
   ]
  },
  {
   "cell_type": "markdown",
   "id": "a0568a85-dd1b-4b42-8ec8-73ab27202418",
   "metadata": {},
   "source": [
    "### Problem Solving Techniques\n",
    "1. Two Pointer\n",
    "2. Sliding Window\n",
    "3. Prefix Sum\n",
    "4. Fast and Slow Pointers\n",
    "5. Divide and Conquer\n",
    "6. Greedy\n",
    "7. Recursion\n",
    "8. Backtracking\n",
    "9. Dynamic Programming\n",
    "10. Top 'K' Elements"
   ]
  },
  {
   "cell_type": "code",
   "execution_count": null,
   "id": "8710a74c-7f5f-4e20-b5c2-093a58ecd562",
   "metadata": {},
   "outputs": [],
   "source": []
  }
 ],
 "metadata": {
  "kernelspec": {
   "display_name": "Python 3 (ipykernel)",
   "language": "python",
   "name": "python3"
  },
  "language_info": {
   "codemirror_mode": {
    "name": "ipython",
    "version": 3
   },
   "file_extension": ".py",
   "mimetype": "text/x-python",
   "name": "python",
   "nbconvert_exporter": "python",
   "pygments_lexer": "ipython3",
   "version": "3.10.9"
  }
 },
 "nbformat": 4,
 "nbformat_minor": 5
}
