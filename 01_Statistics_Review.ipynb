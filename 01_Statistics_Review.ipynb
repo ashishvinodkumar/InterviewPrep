{
 "cells": [
  {
   "cell_type": "markdown",
   "id": "1549ea64-c388-43b3-a6d8-5b9892512861",
   "metadata": {},
   "source": [
    "# Statistics"
   ]
  },
  {
   "cell_type": "markdown",
   "id": "7829f34c-0f8f-4682-9690-41f838ac5e13",
   "metadata": {},
   "source": [
    "### Histogram"
   ]
  },
  {
   "cell_type": "markdown",
   "id": "dc55bcb0-648d-406a-bbfd-741e07d48384",
   "metadata": {},
   "source": [
    "- Histogram is a chart that plots the distribution of a numeric variable's value as a series of bars.\n",
    "- It is tricky to identify what the bin size is going to be. Trial and error to approximate the right bin size."
   ]
  },
  {
   "cell_type": "markdown",
   "id": "0434b976-4006-4b82-9d5b-b4e80c92a3b9",
   "metadata": {},
   "source": [
    "### Probability Distribution"
   ]
  },
  {
   "cell_type": "markdown",
   "id": "b74cccc6-a05c-415e-81a4-a4e61df2b81a",
   "metadata": {},
   "source": [
    "- The curve that we use to approximate the data distribution is defined as the probability distribution.\n",
    "- Both the histogram and the curves are distributions.\n",
    "- There are many different types of distribution and shapes. Does not have to be just a normal distribution."
   ]
  },
  {
   "cell_type": "markdown",
   "id": "13847ddf-d8ee-443f-a2b0-3214e095578d",
   "metadata": {},
   "source": [
    "### Normal Distribution"
   ]
  },
  {
   "cell_type": "markdown",
   "id": "66597ee4-fd16-49b6-a146-2375ea4d4c7e",
   "metadata": {},
   "source": [
    "- Normal or Gaussian or Bell-Shaped Distribution. \n",
    "- Normal distributions are always centered around the center/mean value.\n",
    "- 95% of the measurements in a normal distribution fall between +/- 2 standard deviations around the mean.\n",
    "- The mean, median, and mode are all the same, when the data is normally distributed."
   ]
  },
  {
   "cell_type": "markdown",
   "id": "9642ef8a-4f6e-4bd2-a630-1aa09e9969ba",
   "metadata": {},
   "source": [
    "### Population Parameters vs Sample Parameters"
   ]
  },
  {
   "cell_type": "markdown",
   "id": "cb54da86-bfb5-4916-a93e-ef52ca4629ee",
   "metadata": {},
   "source": [
    "- Population Mean or Population Standard Deviation are representative of the entire population.\n",
    "- However, we will never have the time and money to measure every member in the population, so we perform estimation of the population by measuring a few representative samples.\n",
    "- The more data we have, the better confidence we have in our population estimats.\n",
    "- We will almost never have the population parameters, we will usually calculate the sample mean, standard deviation to estimate population behavior"
   ]
  },
  {
   "cell_type": "markdown",
   "id": "fb55fb22-2172-428b-9488-a8ab8e4690e0",
   "metadata": {},
   "source": [
    "### Mean"
   ]
  },
  {
   "cell_type": "markdown",
   "id": "0ac34810-cb12-4ef3-bc7b-05477537e77f",
   "metadata": {},
   "source": [
    "- Sum of all individual values divided the number of values."
   ]
  },
  {
   "cell_type": "markdown",
   "id": "5de16721-05f9-4e72-b051-1a00e506f1e9",
   "metadata": {},
   "source": [
    "### Variance"
   ]
  },
  {
   "cell_type": "markdown",
   "id": "bf7a9e99-9359-443f-84fc-5fe69e19886e",
   "metadata": {},
   "source": [
    "$$\\frac{\\sum(x - \\mu^2)}{n}$$\n",
    "\n",
    "Steps to calculate variance\n",
    "- Subtract mean (u) from individual values (x).\n",
    "- Square the differences to ensure that each difference is positive.\n",
    "- Sum up all the differences\n",
    "- Divide by the number of values 'n'."
   ]
  },
  {
   "cell_type": "markdown",
   "id": "16d63c18-4a9a-4e6d-9bb8-9c38278b885c",
   "metadata": {},
   "source": [
    "### Standard Deviation"
   ]
  },
  {
   "cell_type": "markdown",
   "id": "704c8ed9-3fe5-4829-abb4-1fd7ebaa60a8",
   "metadata": {},
   "source": [
    "$$\\sqrt {\\frac{\\sum(x - \\mu^2)}{n}}$$\n",
    "\n",
    "- The standard deviation is the square root of variance"
   ]
  },
  {
   "cell_type": "markdown",
   "id": "48c9a478-f51d-438f-9722-529760ffc9fb",
   "metadata": {},
   "source": [
    "### What is a mathematical Model?\n",
    "- Model refers to exploring the relationship between independent parameters to observe changes in the dependent parameters.\n",
    "- Models can be simple or complex. It can be any shape exhibited by the data."
   ]
  },
  {
   "cell_type": "markdown",
   "id": "9b5ecb88-0231-4e09-9403-80e6c6e9cc18",
   "metadata": {},
   "source": [
    "### Null Hypothesis"
   ]
  },
  {
   "cell_type": "markdown",
   "id": "07c83d83-513a-4961-9cf7-34c6d1a2bfc9",
   "metadata": {},
   "source": [
    "- Null Hypothesis is usually defined to be rejected. Specifically, it is stated as follows. For example:\n",
    "'There is no difference between Drug A vs Drug B'.\n",
    "- The goal is to reject the null hypothesis with the alternative hypothesis"
   ]
  },
  {
   "cell_type": "markdown",
   "id": "23201982-7a62-46e3-b9ca-68dbfc932dfa",
   "metadata": {},
   "source": [
    "### Alternative Hypothesis"
   ]
  },
  {
   "cell_type": "markdown",
   "id": "8c9fdc72-63ac-4d11-b2a1-142482d76c3e",
   "metadata": {},
   "source": [
    "- We use a well defined statistical test to determin if we reject or accept the null hypothesis:\n",
    "1. It needs data\n",
    "2. Requres a null hypothesis to accept or reject.\n",
    "3. Needs alternative hypothesis. Alternative is the opposite of null hypothesis."
   ]
  },
  {
   "cell_type": "markdown",
   "id": "fd4f64e1-3fa3-42c5-a194-dc6a41b104ba",
   "metadata": {},
   "source": [
    "### P-Values"
   ]
  },
  {
   "cell_type": "markdown",
   "id": "37d71d43-94c1-42ff-acd7-be34a9084e2d",
   "metadata": {},
   "source": [
    "- P-Values are numbers between [0,1] that help quantify how confident we should be in rejecting the null hypothesis\n",
    "- The closer a p-value is to zero, the more confidently we can reject the null hypothesis. \n",
    "- A commonly used threshold is 0.05. If a value is 0.05, then we can confidently reject null hypothesis.\n",
    "- A threshold of 0.05 means that in only 5% of the experiments, we would get the incorrect outcome. Which is acceptable in terms of random chance and other correlated factors."
   ]
  },
  {
   "cell_type": "markdown",
   "id": "be38d5c1-7e7d-410a-a35b-1e7d71ee896b",
   "metadata": {},
   "source": [
    "### How to calculate P-Value?"
   ]
  },
  {
   "cell_type": "markdown",
   "id": "d351f538-259c-4953-a508-3e15e54adf60",
   "metadata": {},
   "source": [
    "- There are 2 types of p-values. One sided and two sided p-values. Generally we calculate two-sided p-values\n",
    "\n",
    "A p-value is composed of 3 parts.\n",
    "1. The probability that random chance would result in the observation.\n",
    "2. THe probability of observing something else that is equally rare.\n",
    "3. The probability of observing something rarer or more extreme."
   ]
  },
  {
   "cell_type": "markdown",
   "id": "f7836474-f33e-480c-b366-92fbb55c4705",
   "metadata": {},
   "source": [
    "### What is p-hacking?"
   ]
  },
  {
   "cell_type": "markdown",
   "id": "7a6adb79-1010-4548-b0eb-f897093ed4a3",
   "metadata": {},
   "source": [
    "In a normal distribution, 95% of the measurements fall between +/- 2 standard deviations. However, 5% of the values are split in the extreme ends (2.5% on each side). \n",
    "- So if you pick your samples from the extremes, there is a 5% chance that it will lower than the threshold of 0.05, giving rise to a false positive. \n",
    "- Another common type of p-hacking is to add additional measurements to get the p-value less than 0.05. "
   ]
  },
  {
   "cell_type": "markdown",
   "id": "a22b0ce3-ea6e-4430-8d19-f44f063319d1",
   "metadata": {},
   "source": [
    "### What is False Discovery Rate?"
   ]
  },
  {
   "cell_type": "markdown",
   "id": "7b110999-49d1-43d9-bd81-bceb90674ff3",
   "metadata": {},
   "source": [
    "- When the samples come from the same distribution, the p-values are uniformly distributed.\n",
    "- When the samples come from different distributions, the p-values are heavily skewed and closer to 0.\n",
    "\n",
    "### The benjamini-Hochberg Method\n",
    "- Create histogram of p-values for each test that you perform based on a repeated sampling from the distributions. If the p-values are uniform, then they come from the same distribution. If the p-values are skewed and closer to 0, then the samples come from different distribution.\n",
    "\n",
    "Steps:\n",
    "1. Order the p-values from smallest to largest.\n",
    "2. Rank the p-values with index starting from 1.\n",
    "3. The largest FDR adjusted p-value and the largest p-value are the same.\n",
    "4. The next largest adjusted p-value is the smaller of the two options:\n",
    "\n",
    "    a. The previous adjusted p-value\n",
    "    \n",
    "    b. The current p-value * (total # of p-values/p-value rank)"
   ]
  },
  {
   "cell_type": "markdown",
   "id": "3c175448-e4ae-42a9-8828-a9a42a046bfa",
   "metadata": {},
   "source": [
    "### What is Power?"
   ]
  },
  {
   "cell_type": "markdown",
   "id": "fc3cc525-ae5e-4f7a-8ca1-a2316c438739",
   "metadata": {},
   "source": [
    "- Power is the probabily that we will correctly reject the null hypothesis.\n",
    "- When we have 2 distributions that have very little overlap, we have a lot of Power because there is a high probability that we will correctly reject the Null Hypothesis.\n",
    "- However, when the 2 distributions overlap a lot, we will have less power in rejecting the Null Hypothesis. To fix this, we could increase the sample size to get more power."
   ]
  },
  {
   "cell_type": "markdown",
   "id": "f3498fb2-064d-4fc6-b45f-4b02f1857c44",
   "metadata": {},
   "source": [
    "### What is Power Analysis?"
   ]
  },
  {
   "cell_type": "markdown",
   "id": "c9c6368a-deeb-4d9e-9814-9a3f55e20015",
   "metadata": {},
   "source": [
    "- The power analysis tells us what is the correct sample to reject/accept the Null Hypothesis.\n",
    "- The first thing we need to do is decide how much power we have: A common value is 0.8. That means that we want 80% probability that we will correctly reject the null hypothesis.\n",
    "- The second is, we need to decide the threshold for significance. The most common value is 0.05. \n",
    "\n",
    "A common formula used to identify the correct sample size is:\n",
    "$$Effect Size (d) = \\frac {The\\ estimated\\ difference\\ in\\ the\\ means}{Pooled\\ estimated\\ standard\\ deviations}$$"
   ]
  },
  {
   "cell_type": "markdown",
   "id": "1f876cd9-8196-4128-a2a2-828715ae3fb3",
   "metadata": {},
   "source": [
    "### What is Covariance?"
   ]
  },
  {
   "cell_type": "markdown",
   "id": "07981737-ca7d-484b-8426-68735c6bd750",
   "metadata": {},
   "source": [
    "Between 2 independent features, covariance helps capture 3 types of trends:\n",
    "1. Relationships with positive trends.\n",
    "2. Relationships with negative trends.\n",
    "3. Times where there is no relationship as there is no trend.\n",
    "\n",
    "How is co-variance is calculated:\n",
    "$$covariance = \\frac{\\sum(x - mean_x)(y - mean_y)}{n-1}$$\n",
    "\n",
    "- NOTE: The covariance value itself is difficult to interpret. The only thing you look at is just the 'slope' or trend of line. \n",
    "- Covariance is very sensitive to the scale of the data. Difficult to rely on."
   ]
  },
  {
   "cell_type": "markdown",
   "id": "d05e54f9-a1fc-43b1-99d9-39e89d3663d5",
   "metadata": {},
   "source": [
    "### Pearson's Correlation"
   ]
  },
  {
   "cell_type": "markdown",
   "id": "b42ec168-d9c2-412f-8b95-cf1e6380fd22",
   "metadata": {},
   "source": [
    "Correlation quantifies the strength between features. \n",
    "\n",
    "Correlation does not depend on the scale of the data. It is better to interpret and use for analysis. Values range [-1, 1].\n",
    "- For correlation, a p-value tells us the probability that randomly drawn dots will result in a similarly strong relationship, or stronger.\n",
    "- Correlation is '1', when a straight line with positive slope can go through the center of every data point. Strong correlation.\n",
    "- Correlation is '-1', when a straight line with negative slope can go through the center of every data point. Strong correlation.\n",
    "- When there is no relationship between 2 features, the correlation is 0. \n",
    "\n",
    "Closer the correlation values get to '1' or '-1', the more confidence we have on the relationship.\n",
    "\n",
    "$$correlation = \\frac{covariance(x, y)}{\\sqrt{variance(x)}\\sqrt{variance(y)}}$$"
   ]
  },
  {
   "cell_type": "markdown",
   "id": "3f2d5111-0ff4-43fa-80b6-988040833af8",
   "metadata": {},
   "source": [
    "### Bayes Theorem"
   ]
  },
  {
   "cell_type": "markdown",
   "id": "beab475e-4560-4f62-a4b3-85a3f2163ab9",
   "metadata": {},
   "source": [
    "\n",
    "$$p(A and B| B) = \\frac{p(A and B | A) * p(A)}{p(B)}$$"
   ]
  },
  {
   "cell_type": "markdown",
   "id": "cdd803ef-119b-413f-a11c-fa3fa64bbb8d",
   "metadata": {},
   "source": [
    "### Expected Value"
   ]
  },
  {
   "cell_type": "markdown",
   "id": "c5098b1b-87d7-4dac-bd2a-19fe72b5835b",
   "metadata": {},
   "source": [
    "$$E(x) = \\sum x{P(X = x)} $$"
   ]
  },
  {
   "cell_type": "markdown",
   "id": "82fea4ac-9863-4f5a-a86a-f3931e836629",
   "metadata": {},
   "source": [
    "where, \n",
    "\n",
    "- x = Specific outcome\n",
    "- P(X=x) = The probability of observing that specific outcome"
   ]
  },
  {
   "cell_type": "markdown",
   "id": "fa5b4c46-79c7-43fa-843c-d69ef1760fed",
   "metadata": {},
   "source": [
    "### Expected Value for Continuous Variables"
   ]
  },
  {
   "cell_type": "markdown",
   "id": "852d1b64-2d84-4fb2-a3e3-8071fb85ee80",
   "metadata": {},
   "source": [
    "- It is calculated by determining the area under the curve of the underlying probability distribution. \n",
    "- In other words, calculate the integral of the underlying probability distribution curve."
   ]
  }
 ],
 "metadata": {
  "kernelspec": {
   "display_name": "Python 3 (ipykernel)",
   "language": "python",
   "name": "python3"
  },
  "language_info": {
   "codemirror_mode": {
    "name": "ipython",
    "version": 3
   },
   "file_extension": ".py",
   "mimetype": "text/x-python",
   "name": "python",
   "nbconvert_exporter": "python",
   "pygments_lexer": "ipython3",
   "version": "3.10.9"
  }
 },
 "nbformat": 4,
 "nbformat_minor": 5
}
